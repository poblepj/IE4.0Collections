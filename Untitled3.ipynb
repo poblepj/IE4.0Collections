{
 "cells": [
  {
   "cell_type": "code",
   "execution_count": 265,
   "metadata": {
    "collapsed": true
   },
   "outputs": [],
   "source": [
    "import math\n",
    "import csv\n",
    "import numpy as np\n",
    "import plotly \n",
    "import plotly.plotly as py\n",
    "import plotly.graph_objs as go\n"
   ]
  },
  {
   "cell_type": "markdown",
   "metadata": {},
   "source": [
    "設定plotly apikey"
   ]
  },
  {
   "cell_type": "code",
   "execution_count": 266,
   "metadata": {},
   "outputs": [
    {
     "data": {
      "text/html": [
       "<script>requirejs.config({paths: { 'plotly': ['https://cdn.plot.ly/plotly-latest.min']},});if(!window.Plotly) {{require(['plotly'],function(plotly) {window.Plotly=plotly;});}}</script>"
      ],
      "text/vnd.plotly.v1+html": [
       "<script>requirejs.config({paths: { 'plotly': ['https://cdn.plot.ly/plotly-latest.min']},});if(!window.Plotly) {{require(['plotly'],function(plotly) {window.Plotly=plotly;});}}</script>"
      ]
     },
     "metadata": {},
     "output_type": "display_data"
    }
   ],
   "source": [
    "#plotly.tools.set_credentials_file(username='paul.ciou', api_key='q5iWryWj4baG6PsVI0kk')\n",
    "from plotly.offline import download_plotlyjs, init_notebook_mode, plot, iplot\n",
    "from plotly.graph_objs import Scatter, Figure, Layout,Heatmap\n",
    "from plotly import tools\n",
    "init_notebook_mode(connected=True)\n"
   ]
  },
  {
   "cell_type": "markdown",
   "metadata": {},
   "source": [
    "讀取csv 轉成圖表格式\n",
    "．輝度scatter圖：為13欄各點平均值分佈在81宮格，需計算每個欄位的平均值\n",
    "．defect 的heatmap ：轉換過後的xy 去計算各點數量\n",
    "．defect 的heatmap 分時圖：x軸為時間，y軸為1~81 ，z為 每個時間各軸的統計值\n"
   ]
  },
  {
   "cell_type": "markdown",
   "metadata": {},
   "source": [
    "先畫13點\n",
    "1． (4,4)\n",
    "2． (2,6)\n",
    "3． (6,6)\n",
    "4． (6,2)\n",
    "5． (2,2)\n",
    "6． (1,7)\n",
    "7． (4,7)\n",
    "8． (7,7)\n",
    "9． (7,4)\n",
    "10．(7,1)\n",
    "11．(4,1)\n",
    "12．(1,1)\n",
    "13．(1,4)"
   ]
  },
  {
   "cell_type": "code",
   "execution_count": 267,
   "metadata": {
    "collapsed": true
   },
   "outputs": [],
   "source": [
    "\n",
    "def readFiles(filePath):\n",
    "    \n",
    "    fo = open(filePath, \"r\")\n",
    "    lines = fo.readlines()\n",
    "    newLine=[]\n",
    "    newArray=[]\n",
    "    errorLine=[]\n",
    "    index=0\n",
    "    for line in lines:\n",
    "        newLine=[]\n",
    "        line=line.replace('\\n','')\n",
    "        \n",
    "        line=line.split(',')\n",
    "        #修正邊緣起始點\n",
    "        if(line[5]<line[1]):\n",
    "            line[5]=float(line[1])\n",
    "        if(line[6]<line[2]):\n",
    "            line[6]=float(line[2])\n",
    "        \n",
    "        #\n",
    "        fig_x=(float(line[5])-float(line[1]))/float(line[3])\n",
    "        fig_y=(float(line[6])-float(line[2]))/float(line[4])\n",
    "        trans_x=math.floor(fig_x/0.125)if math.floor(fig_x/0.125)<8 else 8\n",
    "        trans_y=math.floor(fig_y/0.125)if math.floor(fig_y/0.125)<8 else 8\n",
    "\n",
    "        size=float(line[7])*float(line[8])\n",
    "\n",
    "\n",
    "        newLine.append(fig_x)\n",
    "        newLine.append(fig_y)\n",
    "\n",
    "        newLine.append(trans_x)\n",
    "        newLine.append(trans_y)\n",
    "        newLine.append(size)\n",
    "\n",
    "        newArray.append(newLine)\n",
    "        index=index+1\n",
    "    dataArray= np.array(newArray)\n",
    "    \n",
    "    \n",
    "    transXY=dataArray[:,2:4]\n",
    "    \n",
    "    \n",
    "    sumDefect=np.zeros([9,9])\n",
    "    #計算各座標出現次數\n",
    "    for i in range(len(transXY)):\n",
    "        try:\n",
    "            sumDefect[int(transXY[i][0]),int(transXY[i][1])]=sumDefect[int(transXY[i][0]),int(transXY[i][1])]+1\n",
    "        except:\n",
    "            print(transXY[i][0])\n",
    "    \n",
    "    return sumDefect\n",
    "\n"
   ]
  },
  {
   "cell_type": "markdown",
   "metadata": {},
   "source": [
    "## 讀取defect"
   ]
  },
  {
   "cell_type": "code",
   "execution_count": 268,
   "metadata": {},
   "outputs": [
    {
     "name": "stdout",
     "output_type": "stream",
     "text": [
      "['40950.90', '38741.45', '38483.36', '38294.06', '38136.78', '36026.78', '36650.80', '36432.02', '36211.54', '36051.32', '35467.99', '36478.52', '35885.24']\n"
     ]
    }
   ],
   "source": [
    "filePath=\"D://aoi_data/1129/13p/13P_DEFECT_032.csv\"\n",
    "fo = open(filePath, \"r\")\n",
    "lines = fo.readlines()\n",
    "sumArray=np.zeros(13)\n",
    "\n",
    "for line in lines:\n",
    "    newLine=[]\n",
    "    column=0\n",
    "    line=line.replace('\\n','')        \n",
    "    line=line.split(',')\n",
    "    line=line[1:14]    \n",
    "    for index in range(len(line)):\n",
    "        sumArray[index]= sumArray[index]+int(line[index])\n",
    "        \n",
    "fo.close()\n",
    "\n",
    "k=['%.2f' % round(item/3612,2) for item in sumArray]\n",
    "print(k)\n"
   ]
  },
  {
   "cell_type": "markdown",
   "metadata": {},
   "source": [
    "用plotly畫scatter"
   ]
  },
  {
   "cell_type": "code",
   "execution_count": 269,
   "metadata": {
    "collapsed": true
   },
   "outputs": [],
   "source": [
    "annotions=[]\n",
    "shapes=[]\n",
    "x_13p=[4,2,6,6,2,1,4,7,7,7,4,1,1]\n",
    "y_13p=[4,6,6,2,2,7,7,7,4,1,1,1,4]\n",
    "bias=0.1\n",
    "\n",
    "for index in range(len(k)):\n",
    "    annotions.append({'text': str(k[index]), 'x': x_13p[index], 'y': y_13p[index]})\n",
    "    shapes.append( {\n",
    "            'type': 'circle',\n",
    "            'xref': 'x',\n",
    "            'yref': 'y',\n",
    "            'fillcolor': 'rgba(50, 171, 96, 0.7)',\n",
    "            'x0': x_13p[index]-bias,\n",
    "            'y0':  y_13p[index]-bias,\n",
    "            'x1': x_13p[index]+bias,\n",
    "            'y1':  y_13p[index]+bias,\n",
    "            'line': {\n",
    "                'color': 'rgba(50, 171, 96, 1)',\n",
    "            },\n",
    "            })\n",
    "\n",
    "trace1 = go.Scatter(\n",
    "    x=[4,2,6,6,2,1,4,7,7,7,4,1,1],\n",
    "    y=[4,6,6,2,2,7,7,7,4,1,1,1,4],\n",
    "    #x=[0, 1, 2],\n",
    "    #y=[1, 3, 2],\n",
    "    mode='markers+text',\n",
    "    name='Markers and Text',\n",
    "    \n",
    "    text=k,\n",
    "    textposition='bottom'\n",
    ")\n",
    "layout = {\n",
    "    #showlegend=False\n",
    "    'width': 800,\n",
    "    'height': 800,\n",
    "    \n",
    "    'annotations': annotions,\n",
    "    'shapes':shapes,\n",
    "    'title': '異物13點輝度與缺陷區域'\n",
    "    \n",
    "}\n",
    "#fig = go.Figure(data=[trace])\n",
    "#plot(fig, filename='text-chart-basic.html')\n",
    "#print(k)\n",
    "import defect_heatmap\n"
   ]
  },
  {
   "cell_type": "code",
   "execution_count": 270,
   "metadata": {},
   "outputs": [
    {
     "name": "stdout",
     "output_type": "stream",
     "text": [
      "40950.90\n"
     ]
    }
   ],
   "source": [
    "print(k[0])"
   ]
  },
  {
   "cell_type": "code",
   "execution_count": 271,
   "metadata": {
    "collapsed": true
   },
   "outputs": [],
   "source": [
    "import defect_heatmap as dh\n"
   ]
  },
  {
   "cell_type": "markdown",
   "metadata": {},
   "source": [
    "# 輝度defect 重合圖OK"
   ]
  },
  {
   "cell_type": "code",
   "execution_count": 272,
   "metadata": {},
   "outputs": [
    {
     "data": {
      "text/plain": [
       "'file://C:\\\\Users\\\\paul.ciou\\\\Desktop\\\\異物13點輝度與缺陷區域.html'"
      ]
     },
     "execution_count": 272,
     "metadata": {},
     "output_type": "execute_result"
    }
   ],
   "source": [
    "k=np.zeros([9,9])\n",
    "\n",
    "#trace = go.Heatmap(z=[[1, 20, 30],\n",
    "#                      [20, 1, 60],\n",
    "#                      [30, 60, 1]])\n",
    "\n",
    "maxTimeStr='_1.csv'\n",
    "#defectBright = dh.readFiles(\"D://aoi_data/DEFECT_007\"+maxTimeStr)\n",
    "#defectWhite = dh.readFiles(\"D://aoi_data/DEFECT_100\"+maxTimeStr)\n",
    "#defectBlack = dh.readFiles(\"D://aoi_data/DEFECT_101\"+maxTimeStr)\n",
    "#defect15 = dh.readFiles(\"D://aoi_data/DEFECT_032\"+maxTimeStr)\n",
    "\n",
    "#defectAll= dh.readFiles(\"D://aoi_data/Defect_ALL.csv\")\n",
    "\n",
    "heatmapList=[defectBright,defectWhite,defectBlack,defect15,defectAll]\n",
    "\n",
    "fileIndex=0\n",
    "\n",
    "\n",
    "trace2 = go.Heatmap(z=defect15,colorscale='Reds')\n",
    "data=[trace2]\n",
    "fig = {\n",
    "    'data': data,\n",
    "    'layout': layout,\n",
    "}\n",
    "\n",
    "plot(fig, filename='異物13點輝度與缺陷區域.html')\n",
    "\n",
    "\n"
   ]
  },
  {
   "cell_type": "code",
   "execution_count": 278,
   "metadata": {
    "collapsed": true
   },
   "outputs": [],
   "source": [
    "defect032=[0.0288 ,0.0316 ,0.0294 ,0.0147 ,0.0088 ,0.0053 ,0.0053 ,0.0035 ,0.0031 ,0.0038 ,0.0032 ,0.0037 ,0.0038]\n",
    "defect007=[0.0222 ,0.0272 ,0.0241 ,0.0124 ,0.0078 ,0.0048 ,0.0043 ,0.0031 ,0.0031 ,0.0044 ,0.0032 ,0.0033 ,0.0027]\n",
    "defect100=[0.0105 ,0.0120 ,0.0127 ,0.0063 ,0.0042 ,0.0022 ,0.0017 ,0.0010 ,0.0017 ,0.0024 ,0.0013 ,0.0020 ,0.0010 ]\n",
    "defect101=[0.0052 ,0.0016 ,0.0028 ,0.0018 ,0.0008 ,0.0005 ,0.0003 ,0.0003 ,0.0002 ,0.0003 ,0.0003 ,0.0002 ,0.0002]\n",
    "allboard=[765,2503,6691,14673,27305,24126,26999,28976,13206,28740,21902,28650,22967]\n",
    "time_sires=[20,19,18,17,16,15,14,13,12,11,10,9,8]\n"
   ]
  },
  {
   "cell_type": "code",
   "execution_count": 281,
   "metadata": {},
   "outputs": [
    {
     "data": {
      "text/plain": [
       "'file://C:\\\\Users\\\\paul.ciou\\\\Desktop\\\\時間缺陷.html'"
      ]
     },
     "execution_count": 281,
     "metadata": {},
     "output_type": "execute_result"
    }
   ],
   "source": [
    "# Add data\n",
    "month = ['January', 'February', 'March', 'April', 'May', 'June', 'July',\n",
    "         'August', 'September', 'October', 'November', 'December']\n",
    "high_2000 = [32.5, 37.6, 49.9, 53.0, 69.1, 75.4, 76.5, 76.6, 70.7, 60.6, 45.1, 29.3]\n",
    "low_2000 = [13.8, 22.3, 32.5, 37.2, 49.9, 56.1, 57.7, 58.3, 51.2, 42.8, 31.6, 15.9]\n",
    "high_2007 = [36.5, 26.6, 43.6, 52.3, 71.5, 81.4, 80.5, 82.2, 76.0, 67.3, 46.1, 35.0]\n",
    "low_2007 = [23.6, 14.0, 27.0, 36.8, 47.6, 57.7, 58.9, 61.2, 53.3, 48.5, 31.0, 23.6]\n",
    "high_2014 = [28.8, 28.5, 37.0, 56.8, 69.7, 79.7, 78.5, 77.8, 74.1, 62.6, 45.3, 39.9]\n",
    "low_2014 = [12.7, 14.3, 18.6, 35.5, 49.9, 58.0, 60.0, 58.6, 51.7, 45.2, 32.2, 29.1]\n",
    "\n",
    "# Create and style traces\n",
    "trace0 = go.Scatter(\n",
    "    x = time_sires,\n",
    "    y = defect007,\n",
    "    name = '亮點',\n",
    "    line = dict(\n",
    "        color = ('rgb(205, 12, 24)'),\n",
    "        width = 4)\n",
    ")\n",
    "trace1 = go.Scatter(\n",
    "    x = time_sires,\n",
    "    y = defect032,\n",
    "    name = '異物',\n",
    "    line = dict(\n",
    "        color = ('rgb(22, 96, 167)'),\n",
    "        width = 4,)\n",
    ")\n",
    "trace2 = go.Scatter(\n",
    "    x = time_sires,\n",
    "    y = defect100,\n",
    "    name = '白汙',\n",
    "    line = dict(\n",
    "        color = ('rgb(205, 12, 24)'),\n",
    "        width = 4,\n",
    "        dash = 'dash') # dash options include 'dash', 'dot', and 'dashdot'\n",
    ")\n",
    "trace3 = go.Scatter(\n",
    "    x = time_sires,\n",
    "    y = defect101,\n",
    "    name = '黑汙',\n",
    "    line = dict(\n",
    "        color = ('rgb(22, 96, 167)'),\n",
    "        width = 4,\n",
    "        dash = 'dash')\n",
    ")\n",
    "trace4 = go.Scatter(\n",
    "    x=time_sires,\n",
    "    y=allboard,\n",
    "    name='總產量',\n",
    "    yaxis='y2',\n",
    "     line = dict(\n",
    "        color = ('rgb(0, 196, 11)'),\n",
    "        width = 4,\n",
    "        )\n",
    "    \n",
    ")\n",
    "data = [trace0, trace1, trace2, trace3,trace4]\n",
    "\n",
    "# Edit the layout\n",
    "#layout = dict(title = '時間缺陷圖',\n",
    "##              xaxis = dict(title = '時間(24小時)'),\n",
    "#              yaxis = dict(title = 'defect數量'),\n",
    "#              \n",
    "#              )\n",
    "layout=go.Layout(\n",
    "    title='時間缺陷圖',\n",
    "    xaxis = dict(title = '時間(24小時)'),\n",
    "    yaxis=dict(\n",
    "        title='yaxis title'\n",
    "    ),\n",
    "    yaxis2=dict(\n",
    "        title='yaxis2 title',\n",
    "        titlefont=dict(\n",
    "            color='rgb(148, 103, 189)'\n",
    "        ),\n",
    "        tickfont=dict(\n",
    "            color='rgb(148, 103, 189)'\n",
    "        ),\n",
    "        overlaying='y',\n",
    "        side='right'\n",
    "    )\n",
    ")\n",
    "fig = dict(data=data, layout=layout)\n",
    "plot(fig, filename='時間缺陷.html')"
   ]
  }
 ],
 "metadata": {
  "kernelspec": {
   "display_name": "Python 3",
   "language": "python",
   "name": "python3"
  },
  "language_info": {
   "codemirror_mode": {
    "name": "ipython",
    "version": 3
   },
   "file_extension": ".py",
   "mimetype": "text/x-python",
   "name": "python",
   "nbconvert_exporter": "python",
   "pygments_lexer": "ipython3",
   "version": "3.6.3"
  }
 },
 "nbformat": 4,
 "nbformat_minor": 2
}
